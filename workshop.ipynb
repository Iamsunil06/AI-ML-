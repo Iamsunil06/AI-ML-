{
  "nbformat": 4,
  "nbformat_minor": 0,
  "metadata": {
    "colab": {
      "provenance": [],
      "mount_file_id": "1yq7Ofomz2m8GZxXyP7E4QQzVy29Tc-5_",
      "authorship_tag": "ABX9TyOIKbEp84ANMjWDnIqW2kbI",
      "include_colab_link": true
    },
    "kernelspec": {
      "name": "python3",
      "display_name": "Python 3"
    },
    "language_info": {
      "name": "python"
    }
  },
  "cells": [
    {
      "cell_type": "markdown",
      "metadata": {
        "id": "view-in-github",
        "colab_type": "text"
      },
      "source": [
        "<a href=\"https://colab.research.google.com/github/Iamsunil06/AI-ML-/blob/main/workshop.ipynb\" target=\"_parent\"><img src=\"https://colab.research.google.com/assets/colab-badge.svg\" alt=\"Open In Colab\"/></a>"
      ]
    },
    {
      "cell_type": "code",
      "execution_count": null,
      "metadata": {
        "id": "SzYcqPaI0bLr",
        "colab": {
          "base_uri": "https://localhost:8080/"
        },
        "outputId": "e73cae15-1447-4ab6-e9f8-0e7a5a91c6fb"
      },
      "outputs": [
        {
          "output_type": "stream",
          "name": "stdout",
          "text": [
            "Missing values in 'society' column filled successfully!\n"
          ]
        }
      ],
      "source": [
        "import pandas as pd\n",
        "\n",
        "# Load the dataset (replace 'file_path' with your actual file path)\n",
        "file_path = '/content/drive/MyDrive/AI ML WORKSHOP/Bengaluru_House_Data.csv'  # Example: '/mnt/data/dataset.csv'\n",
        "df = pd.read_csv(file_path)\n",
        "\n",
        "# Option 1: Fill with a default value\n",
        "df['society'] = df['society'].fillna('Unknown')\n",
        "\n",
        "# Option 2: Forward fill\n",
        "# df['society'] = df['society'].fillna(method='ffill')\n",
        "\n",
        "# Option 3: Backward fill\n",
        "# df['society'] = df['society'].fillna(method='bfill')\n",
        "\n",
        "# Option 4: Fill with the most frequent value\n",
        "# most_frequent_value = df['society'].mode()[0]\n",
        "# df['society'] = df['society'].fillna(most_frequent_value)\n",
        "\n",
        "# Save the updated dataset (optional)\n",
        "output_path = 'updated_dataset.csv'\n",
        "df.to_csv(output_path, index=False)\n",
        "\n",
        "print(\"Missing values in 'society' column filled successfully!\")\n"
      ]
    }
  ]
}